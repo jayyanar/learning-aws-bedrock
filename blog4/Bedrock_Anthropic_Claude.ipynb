{
 "cells": [
  {
   "cell_type": "code",
   "execution_count": 1,
   "metadata": {},
   "outputs": [
    {
     "name": "stdout",
     "output_type": "stream",
     "text": [
      "Python 3.11.5\n"
     ]
    }
   ],
   "source": [
    "! python --version"
   ]
  },
  {
   "attachments": {},
   "cell_type": "markdown",
   "metadata": {},
   "source": [
    "# Environment Setup"
   ]
  },
  {
   "attachments": {},
   "cell_type": "markdown",
   "metadata": {},
   "source": [
    "## Upgrade pip"
   ]
  },
  {
   "cell_type": "code",
   "execution_count": 1,
   "metadata": {},
   "outputs": [
    {
     "name": "stdout",
     "output_type": "stream",
     "text": [
      "Requirement already satisfied: pip in /Users/jayyanar/anaconda3/lib/python3.11/site-packages (23.3.1)\n"
     ]
    }
   ],
   "source": [
    "! pip install --upgrade pip"
   ]
  },
  {
   "attachments": {},
   "cell_type": "markdown",
   "metadata": {},
   "source": [
    "# Install latest boto3,awscli, boto3-core"
   ]
  },
  {
   "cell_type": "code",
   "execution_count": 2,
   "metadata": {},
   "outputs": [
    {
     "name": "stdout",
     "output_type": "stream",
     "text": [
      "Collecting boto3>=1.33.6\n",
      "  Downloading boto3-1.33.9-py3-none-any.whl.metadata (6.7 kB)\n",
      "Collecting awscli>=1.31.6\n",
      "  Downloading awscli-1.31.9-py3-none-any.whl.metadata (11 kB)\n",
      "Collecting botocore>=1.33.6\n",
      "  Downloading botocore-1.33.9-py3-none-any.whl.metadata (6.1 kB)\n",
      "Collecting jmespath<2.0.0,>=0.7.1 (from boto3>=1.33.6)\n",
      "  Using cached jmespath-1.0.1-py3-none-any.whl (20 kB)\n",
      "Collecting s3transfer<0.9.0,>=0.8.2 (from boto3>=1.33.6)\n",
      "  Using cached s3transfer-0.8.2-py3-none-any.whl.metadata (1.8 kB)\n",
      "Collecting docutils<0.17,>=0.10 (from awscli>=1.31.6)\n",
      "  Using cached docutils-0.16-py2.py3-none-any.whl (548 kB)\n",
      "Collecting PyYAML<6.1,>=3.10 (from awscli>=1.31.6)\n",
      "  Using cached PyYAML-6.0.1-cp311-cp311-macosx_11_0_arm64.whl.metadata (2.1 kB)\n",
      "Collecting colorama<0.4.5,>=0.2.5 (from awscli>=1.31.6)\n",
      "  Using cached colorama-0.4.4-py2.py3-none-any.whl (16 kB)\n",
      "Collecting rsa<4.8,>=3.1.2 (from awscli>=1.31.6)\n",
      "  Using cached rsa-4.7.2-py3-none-any.whl (34 kB)\n",
      "Collecting python-dateutil<3.0.0,>=2.1 (from botocore>=1.33.6)\n",
      "  Using cached python_dateutil-2.8.2-py2.py3-none-any.whl (247 kB)\n",
      "Collecting urllib3<2.1,>=1.25.4 (from botocore>=1.33.6)\n",
      "  Using cached urllib3-2.0.7-py3-none-any.whl.metadata (6.6 kB)\n",
      "Collecting six>=1.5 (from python-dateutil<3.0.0,>=2.1->botocore>=1.33.6)\n",
      "  Using cached six-1.16.0-py2.py3-none-any.whl (11 kB)\n",
      "Collecting pyasn1>=0.1.3 (from rsa<4.8,>=3.1.2->awscli>=1.31.6)\n",
      "  Using cached pyasn1-0.5.1-py2.py3-none-any.whl.metadata (8.6 kB)\n",
      "Downloading boto3-1.33.9-py3-none-any.whl (139 kB)\n",
      "\u001b[2K   \u001b[90m━━━━━━━━━━━━━━━━━━━━━━━━━━━━━━━━━━━━━━━\u001b[0m \u001b[32m139.3/139.3 kB\u001b[0m \u001b[31m740.9 kB/s\u001b[0m eta \u001b[36m0:00:00\u001b[0ma \u001b[36m0:00:01\u001b[0m\n",
      "\u001b[?25hDownloading awscli-1.31.9-py3-none-any.whl (4.3 MB)\n",
      "\u001b[2K   \u001b[90m━━━━━━━━━━━━━━━━━━━━━━━━━━━━━━━━━━━━━━━━\u001b[0m \u001b[32m4.3/4.3 MB\u001b[0m \u001b[31m953.1 kB/s\u001b[0m eta \u001b[36m0:00:00\u001b[0m00:01\u001b[0m00:01\u001b[0m\n",
      "\u001b[?25hDownloading botocore-1.33.9-py3-none-any.whl (11.8 MB)\n",
      "\u001b[2K   \u001b[90m━━━━━━━━━━━━━━━━━━━━━━━━━━━━━━━━━━━━━━━━\u001b[0m \u001b[32m11.8/11.8 MB\u001b[0m \u001b[31m386.4 kB/s\u001b[0m eta \u001b[36m0:00:00\u001b[0m00:01\u001b[0m00:01\u001b[0m\n",
      "\u001b[?25hUsing cached PyYAML-6.0.1-cp311-cp311-macosx_11_0_arm64.whl (167 kB)\n",
      "Using cached s3transfer-0.8.2-py3-none-any.whl (82 kB)\n",
      "Using cached urllib3-2.0.7-py3-none-any.whl (124 kB)\n",
      "Using cached pyasn1-0.5.1-py2.py3-none-any.whl (84 kB)\n",
      "Installing collected packages: urllib3, six, PyYAML, pyasn1, jmespath, docutils, colorama, rsa, python-dateutil, botocore, s3transfer, boto3, awscli\n",
      "  Attempting uninstall: urllib3\n",
      "    Found existing installation: urllib3 2.0.7\n",
      "    Uninstalling urllib3-2.0.7:\n",
      "      Successfully uninstalled urllib3-2.0.7\n",
      "  Attempting uninstall: six\n",
      "    Found existing installation: six 1.16.0\n",
      "    Uninstalling six-1.16.0:\n",
      "      Successfully uninstalled six-1.16.0\n",
      "  Attempting uninstall: PyYAML\n",
      "    Found existing installation: PyYAML 6.0.1\n",
      "    Uninstalling PyYAML-6.0.1:\n",
      "      Successfully uninstalled PyYAML-6.0.1\n",
      "  Attempting uninstall: pyasn1\n",
      "    Found existing installation: pyasn1 0.5.1\n",
      "    Uninstalling pyasn1-0.5.1:\n",
      "      Successfully uninstalled pyasn1-0.5.1\n",
      "  Attempting uninstall: jmespath\n",
      "    Found existing installation: jmespath 1.0.1\n",
      "    Uninstalling jmespath-1.0.1:\n",
      "      Successfully uninstalled jmespath-1.0.1\n",
      "  Attempting uninstall: docutils\n",
      "    Found existing installation: docutils 0.16\n",
      "    Uninstalling docutils-0.16:\n",
      "      Successfully uninstalled docutils-0.16\n",
      "  Attempting uninstall: colorama\n",
      "    Found existing installation: colorama 0.4.4\n",
      "    Uninstalling colorama-0.4.4:\n",
      "      Successfully uninstalled colorama-0.4.4\n",
      "  Attempting uninstall: rsa\n",
      "    Found existing installation: rsa 4.7.2\n",
      "    Uninstalling rsa-4.7.2:\n",
      "      Successfully uninstalled rsa-4.7.2\n",
      "  Attempting uninstall: python-dateutil\n",
      "    Found existing installation: python-dateutil 2.8.2\n",
      "    Uninstalling python-dateutil-2.8.2:\n",
      "      Successfully uninstalled python-dateutil-2.8.2\n",
      "  Attempting uninstall: botocore\n",
      "    Found existing installation: botocore 1.33.6\n",
      "    Uninstalling botocore-1.33.6:\n",
      "      Successfully uninstalled botocore-1.33.6\n",
      "  Attempting uninstall: s3transfer\n",
      "    Found existing installation: s3transfer 0.8.2\n",
      "    Uninstalling s3transfer-0.8.2:\n",
      "      Successfully uninstalled s3transfer-0.8.2\n",
      "  Attempting uninstall: boto3\n",
      "    Found existing installation: boto3 1.33.6\n",
      "    Uninstalling boto3-1.33.6:\n",
      "      Successfully uninstalled boto3-1.33.6\n",
      "  Attempting uninstall: awscli\n",
      "    Found existing installation: awscli 1.31.6\n",
      "    Uninstalling awscli-1.31.6:\n",
      "      Successfully uninstalled awscli-1.31.6\n",
      "\u001b[31mERROR: pip's dependency resolver does not currently take into account all the packages that are installed. This behaviour is the source of the following dependency conflicts.\n",
      "conda-repo-cli 1.0.75 requires requests_mock, which is not installed.\n",
      "spyder 5.4.3 requires pyqt5<5.16, which is not installed.\n",
      "spyder 5.4.3 requires pyqtwebengine<5.16, which is not installed.\n",
      "conda-repo-cli 1.0.75 requires clyent==1.2.1, but you have clyent 1.2.2 which is incompatible.\n",
      "pyasn1-modules 0.2.8 requires pyasn1<0.5.0,>=0.4.6, but you have pyasn1 0.5.1 which is incompatible.\n",
      "aiobotocore 2.5.0 requires botocore<1.29.77,>=1.29.76, but you have botocore 1.33.9 which is incompatible.\u001b[0m\u001b[31m\n",
      "\u001b[0mSuccessfully installed PyYAML-6.0.1 awscli-1.31.9 boto3-1.33.9 botocore-1.33.9 colorama-0.4.4 docutils-0.16 jmespath-1.0.1 pyasn1-0.5.1 python-dateutil-2.8.2 rsa-4.7.2 s3transfer-0.8.2 six-1.16.0 urllib3-2.0.7\n"
     ]
    }
   ],
   "source": [
    "! pip install --no-build-isolation --force-reinstall \\\n",
    "    \"boto3>=1.33.6\" \\\n",
    "    \"awscli>=1.31.6\" \\\n",
    "    \"botocore>=1.33.6\""
   ]
  },
  {
   "attachments": {},
   "cell_type": "markdown",
   "metadata": {},
   "source": [
    "# Load the Library"
   ]
  },
  {
   "cell_type": "code",
   "execution_count": 3,
   "metadata": {},
   "outputs": [],
   "source": [
    "import json\n",
    "import os\n",
    "import sys\n",
    "\n",
    "import boto3\n",
    "import botocore\n",
    "\n",
    "bedrock = boto3.client(service_name=\"bedrock\")\n",
    "bedrock_runtime = boto3.client(service_name=\"bedrock-runtime\")"
   ]
  },
  {
   "attachments": {},
   "cell_type": "markdown",
   "metadata": {},
   "source": [
    "# Anthropic is the AI safety and research company behind Claude - the frontier model used by millions of businesses and consumers for its emphasis on safety and performance."
   ]
  },
  {
   "cell_type": "code",
   "execution_count": 79,
   "metadata": {},
   "outputs": [],
   "source": [
    "claude_instant_prompt = \"\"\"\n",
    "\n",
    "Human: Please provide a summary of the following text.\n",
    "<text>\n",
    "\n",
    "Guardrails for Amazon Bedrock offer a robust framework for implementing safeguards in generative AI applications, aligning with responsible AI policies and use cases. These guardrails facilitate controlled user-Foundation Model (FM) interactions by filtering out undesirable content and will soon include redacting personally identifiable information (PII), enhancing privacy. Multiple guardrails, each configured for specific use cases, can be created, allowing continuous monitoring for policy violations. The safeguard features within Guardrails encompass Denied Topics, enabling the definition of undesirable topics; Content Filters, with configurable thresholds for filtering harmful content in categories like hate, insults, sexual, and violence; and upcoming features like Word Filters and PII Redaction. The latter will allow blocking specific words and redacting PII in FM-generated responses, contributing to content safety. Guardrails are compatible with various large language models on Amazon Bedrock, including Titan, Anthropic Claude, Meta Llama 2, AI21 Jurassic, Cohere Command FMs, as well as fine-tuned FMs and Agents.AWS extends intellectual property indemnity, specifically uncapped for copyright claims, covering generative outputs from services like Amazon Titan models and CodeWhisperer Professional. This indemnity protects customers from third-party copyright claims linked to outputs generated in response to customer-provided inputs, emphasizing responsible usage and avoiding inputting infringing data or disabling filtering features. The standard IP indemnity safeguards customers from third-party claims regarding IP infringement, encompassing copyright claims for the services and their training data.\n",
    "</text>\n",
    "\n",
    "Assistant:\"\"\"\n",
    "\n"
   ]
  },
  {
   "cell_type": "code",
   "execution_count": 81,
   "metadata": {},
   "outputs": [],
   "source": [
    "body = json.dumps({\n",
    "    \"prompt\": claude_instant_prompt,\n",
    "    \"max_tokens_to_sample\":256,\n",
    "    \"top_k\":250,\n",
    "    \"stop_sequences\":[], #define phrases that signal the model to conclude text generation.\n",
    "    \"temperature\":0, #Temperature controls randomness; higher values increase diversity, lower values boost predictability.\n",
    "    \"top_p\":0.9 # Top P is a text generation technique, sampling from the most probable tokens in a distribution.\n",
    "})"
   ]
  },
  {
   "cell_type": "code",
   "execution_count": 119,
   "metadata": {},
   "outputs": [],
   "source": [
    "response = bedrock_runtime.invoke_model(\n",
    "    body=body,\n",
    "\tmodelId=\"anthropic.claude-v2\", # You can  also use \"anthropic.claude-instant-v1\",\n",
    "    # anthropic.claude-instant-v1 is faster and cheaper yet still very capable model, which can handle a range of tasks including casual dialogue, text analysis, summarization, and document question-answering.\n",
    "    accept=\"application/json\", \n",
    "    contentType=\"application/json\"\n",
    ")"
   ]
  },
  {
   "attachments": {},
   "cell_type": "markdown",
   "metadata": {},
   "source": [
    "\n",
    "### Parse the Stream Data and conver to List - Uncomment to Run it."
   ]
  },
  {
   "cell_type": "code",
   "execution_count": 1,
   "metadata": {},
   "outputs": [],
   "source": [
    "# claude_stream = response.get('body')\n",
    "# claude_stream_data = list(claude_stream)\n",
    "# claude_stream_data\n",
    "\n",
    "# -------- Output ##########\n",
    "#[b'{\"completion\":\" Here is a summary of the key points from the text:\\\\n\\\\n- Amazon Bedrock\\'s guardrails provide a framework for implementing safeguards in generative AI applications, aligning with responsible AI policies and use cases. \\\\n\\\\n- The guardrails allow controlled user-Foundation Model interactions by filtering out undesirable content. \\\\n\\\\n- Soon the guardrails will also redact personally identifiable information to enhance privacy.\\\\n\\\\n- Multiple guardrails can be created, each configured for specific use cases, allowing continuous monitoring for policy violations.\",\"stop_reason\":\"stop_sequence\",\"stop\":\"\\\\n\\\\nHuman:\"}']"
   ]
  },
  {
   "attachments": {},
   "cell_type": "markdown",
   "metadata": {},
   "source": [
    "## Description of Parse script\n",
    "### The llm_output_parser function captures and parses the output, ensuring proper line wrapping.\n",
    "### It redirects the standard output temporarily to capture the printed content,\n",
    "### then restores the original standard output. The parsed output is printed with line wrapping.\n",
    "### Exception handling is included to handle potential errors during capturing and wrapping."
   ]
  },
  {
   "cell_type": "code",
   "execution_count": 117,
   "metadata": {},
   "outputs": [],
   "source": [
    "# claude_stream = response.get('body')\n",
    "# claude_stream_data = list(claude_stream)\n",
    "# claude_stream_data\n",
    "# # parse_output=list(claude_stream_data)\n",
    "# # parse_output\n",
    "\n",
    "from io import StringIO\n",
    "import sys\n",
    "import textwrap\n",
    "\n",
    "\n",
    "def llm_output_parser(*args, width: int = 100, **kwargs):\n",
    "    \"\"\"\n",
    "    llm_output_parser function:\n",
    "    Parses and prints output with line wrapping to a specified width.\n",
    "\n",
    "    Parameters:\n",
    "    - *args: Variable-length argument list for print function.\n",
    "    - width (int): Width for line wrapping (default 100).\n",
    "    - **kwargs: Keyword arguments for print function.\n",
    "\n",
    "    Returns:\n",
    "    None\n",
    "\n",
    "    Example Usage:\n",
    "    llm_output_parser(\"This is a sample output for llm_output_parser function.\", width=50)\n",
    "    \"\"\"\n",
    "    buffer = StringIO()\n",
    "\n",
    "    try:\n",
    "        # Redirect sys.stdout to capture the output\n",
    "        _stdout = sys.stdout\n",
    "        sys.stdout = buffer\n",
    "        print(*args, **kwargs)\n",
    "        output = buffer.getvalue()\n",
    "    except Exception as e:\n",
    "        # Handle any exceptions that may occur during capturing\n",
    "        print(f\"Error capturing output: {e}\")\n",
    "        return\n",
    "    finally:\n",
    "        # Restore the original sys.stdout\n",
    "        sys.stdout = _stdout\n",
    "\n",
    "    try:\n",
    "        # Wrap lines and print the parsed output\n",
    "        for line in output.splitlines():\n",
    "            print(\"\\n\".join(textwrap.wrap(line, width=width)))\n",
    "    except Exception as e:\n",
    "        # Handle any exceptions that may occur during line wrapping\n",
    "        print(f\"Error wrapping lines: {e}\")"
   ]
  },
  {
   "cell_type": "code",
   "execution_count": 118,
   "metadata": {},
   "outputs": [
    {
     "name": "stdout",
     "output_type": "stream",
     "text": [
      " Here is a summary of the key points from the text:\n",
      "\n",
      "- Amazon Bedrock's guardrails provide a framework for implementing safeguards in generative AI\n",
      "applications, aligning with responsible AI policies and use cases.\n",
      "\n",
      "- The guardrails allow controlled user-Foundation Model interactions by filtering out undesirable\n",
      "content.\n",
      "\n",
      "- Soon the guardrails will also redact personally identifiable information to enhance privacy.\n",
      "\n",
      "- Multiple guardrails can be created, each configured for specific use cases, allowing continuous\n",
      "monitoring for policy violations.\n"
     ]
    }
   ],
   "source": [
    "response_body = json.loads(response.get('body').read())\n",
    "\n",
    "llm_output_parser(response_body.get('completion'))"
   ]
  }
 ],
 "metadata": {
  "kernelspec": {
   "display_name": "Python 3",
   "language": "python",
   "name": "python3"
  },
  "language_info": {
   "codemirror_mode": {
    "name": "ipython",
    "version": 3
   },
   "file_extension": ".py",
   "mimetype": "text/x-python",
   "name": "python",
   "nbconvert_exporter": "python",
   "pygments_lexer": "ipython3",
   "version": "3.9.6 (default, May  7 2023, 23:32:44) \n[Clang 14.0.3 (clang-1403.0.22.14.1)]"
  },
  "orig_nbformat": 4,
  "vscode": {
   "interpreter": {
    "hash": "31f2aee4e71d21fbe5cf8b01ff0e069b9275f58929596ceb00d14d90e3e16cd6"
   }
  }
 },
 "nbformat": 4,
 "nbformat_minor": 2
}

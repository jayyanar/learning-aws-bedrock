{
 "cells": [
  {
   "cell_type": "code",
   "execution_count": 1,
   "metadata": {},
   "outputs": [
    {
     "name": "stdout",
     "output_type": "stream",
     "text": [
      "Python 3.11.5\n"
     ]
    }
   ],
   "source": [
    "! python --version"
   ]
  },
  {
   "attachments": {},
   "cell_type": "markdown",
   "metadata": {},
   "source": [
    "# Environment Setup"
   ]
  },
  {
   "attachments": {},
   "cell_type": "markdown",
   "metadata": {},
   "source": [
    "## Upgrade pip"
   ]
  },
  {
   "cell_type": "code",
   "execution_count": 2,
   "metadata": {},
   "outputs": [
    {
     "name": "stdout",
     "output_type": "stream",
     "text": [
      "Requirement already satisfied: pip in /Users/jayyanar/anaconda3/lib/python3.11/site-packages (23.3.1)\n"
     ]
    }
   ],
   "source": [
    "! pip install --upgrade pip"
   ]
  },
  {
   "attachments": {},
   "cell_type": "markdown",
   "metadata": {},
   "source": [
    "# Install latest boto3,awscli, boto3-core"
   ]
  },
  {
   "cell_type": "code",
   "execution_count": 3,
   "metadata": {},
   "outputs": [
    {
     "name": "stdout",
     "output_type": "stream",
     "text": [
      "Collecting boto3>=1.33.6\n",
      "  Using cached boto3-1.33.6-py3-none-any.whl.metadata (6.7 kB)\n",
      "Collecting awscli>=1.31.6\n",
      "  Using cached awscli-1.31.6-py3-none-any.whl.metadata (11 kB)\n",
      "Collecting botocore>=1.33.6\n",
      "  Using cached botocore-1.33.6-py3-none-any.whl.metadata (6.1 kB)\n",
      "Collecting jmespath<2.0.0,>=0.7.1 (from boto3>=1.33.6)\n",
      "  Using cached jmespath-1.0.1-py3-none-any.whl (20 kB)\n",
      "Collecting s3transfer<0.9.0,>=0.8.2 (from boto3>=1.33.6)\n",
      "  Using cached s3transfer-0.8.2-py3-none-any.whl.metadata (1.8 kB)\n",
      "Collecting docutils<0.17,>=0.10 (from awscli>=1.31.6)\n",
      "  Using cached docutils-0.16-py2.py3-none-any.whl (548 kB)\n",
      "Collecting PyYAML<6.1,>=3.10 (from awscli>=1.31.6)\n",
      "  Using cached PyYAML-6.0.1-cp311-cp311-macosx_11_0_arm64.whl.metadata (2.1 kB)\n",
      "Collecting colorama<0.4.5,>=0.2.5 (from awscli>=1.31.6)\n",
      "  Using cached colorama-0.4.4-py2.py3-none-any.whl (16 kB)\n",
      "Collecting rsa<4.8,>=3.1.2 (from awscli>=1.31.6)\n",
      "  Using cached rsa-4.7.2-py3-none-any.whl (34 kB)\n",
      "Collecting python-dateutil<3.0.0,>=2.1 (from botocore>=1.33.6)\n",
      "  Using cached python_dateutil-2.8.2-py2.py3-none-any.whl (247 kB)\n",
      "Collecting urllib3<2.1,>=1.25.4 (from botocore>=1.33.6)\n",
      "  Using cached urllib3-2.0.7-py3-none-any.whl.metadata (6.6 kB)\n",
      "Collecting six>=1.5 (from python-dateutil<3.0.0,>=2.1->botocore>=1.33.6)\n",
      "  Using cached six-1.16.0-py2.py3-none-any.whl (11 kB)\n",
      "Collecting pyasn1>=0.1.3 (from rsa<4.8,>=3.1.2->awscli>=1.31.6)\n",
      "  Using cached pyasn1-0.5.1-py2.py3-none-any.whl.metadata (8.6 kB)\n",
      "Using cached boto3-1.33.6-py3-none-any.whl (139 kB)\n",
      "Using cached awscli-1.31.6-py3-none-any.whl (4.3 MB)\n",
      "Using cached botocore-1.33.6-py3-none-any.whl (11.8 MB)\n",
      "Using cached PyYAML-6.0.1-cp311-cp311-macosx_11_0_arm64.whl (167 kB)\n",
      "Using cached s3transfer-0.8.2-py3-none-any.whl (82 kB)\n",
      "Using cached urllib3-2.0.7-py3-none-any.whl (124 kB)\n",
      "Using cached pyasn1-0.5.1-py2.py3-none-any.whl (84 kB)\n",
      "Installing collected packages: urllib3, six, PyYAML, pyasn1, jmespath, docutils, colorama, rsa, python-dateutil, botocore, s3transfer, boto3, awscli\n",
      "  Attempting uninstall: urllib3\n",
      "    Found existing installation: urllib3 2.0.7\n",
      "    Uninstalling urllib3-2.0.7:\n",
      "      Successfully uninstalled urllib3-2.0.7\n",
      "  Attempting uninstall: six\n",
      "    Found existing installation: six 1.16.0\n",
      "    Uninstalling six-1.16.0:\n",
      "      Successfully uninstalled six-1.16.0\n",
      "  Attempting uninstall: PyYAML\n",
      "    Found existing installation: PyYAML 6.0.1\n",
      "    Uninstalling PyYAML-6.0.1:\n",
      "      Successfully uninstalled PyYAML-6.0.1\n",
      "  Attempting uninstall: pyasn1\n",
      "    Found existing installation: pyasn1 0.5.1\n",
      "    Uninstalling pyasn1-0.5.1:\n",
      "      Successfully uninstalled pyasn1-0.5.1\n",
      "  Attempting uninstall: jmespath\n",
      "    Found existing installation: jmespath 1.0.1\n",
      "    Uninstalling jmespath-1.0.1:\n",
      "      Successfully uninstalled jmespath-1.0.1\n",
      "  Attempting uninstall: docutils\n",
      "    Found existing installation: docutils 0.16\n",
      "    Uninstalling docutils-0.16:\n",
      "      Successfully uninstalled docutils-0.16\n",
      "  Attempting uninstall: colorama\n",
      "    Found existing installation: colorama 0.4.4\n",
      "    Uninstalling colorama-0.4.4:\n",
      "      Successfully uninstalled colorama-0.4.4\n",
      "  Attempting uninstall: rsa\n",
      "    Found existing installation: rsa 4.7.2\n",
      "    Uninstalling rsa-4.7.2:\n",
      "      Successfully uninstalled rsa-4.7.2\n",
      "  Attempting uninstall: python-dateutil\n",
      "    Found existing installation: python-dateutil 2.8.2\n",
      "    Uninstalling python-dateutil-2.8.2:\n",
      "      Successfully uninstalled python-dateutil-2.8.2\n",
      "  Attempting uninstall: botocore\n",
      "    Found existing installation: botocore 1.33.6\n",
      "    Uninstalling botocore-1.33.6:\n",
      "      Successfully uninstalled botocore-1.33.6\n",
      "  Attempting uninstall: s3transfer\n",
      "    Found existing installation: s3transfer 0.8.2\n",
      "    Uninstalling s3transfer-0.8.2:\n",
      "      Successfully uninstalled s3transfer-0.8.2\n",
      "  Attempting uninstall: boto3\n",
      "    Found existing installation: boto3 1.33.6\n",
      "    Uninstalling boto3-1.33.6:\n",
      "      Successfully uninstalled boto3-1.33.6\n",
      "  Attempting uninstall: awscli\n",
      "    Found existing installation: awscli 1.31.6\n",
      "    Uninstalling awscli-1.31.6:\n",
      "      Successfully uninstalled awscli-1.31.6\n",
      "\u001b[31mERROR: pip's dependency resolver does not currently take into account all the packages that are installed. This behaviour is the source of the following dependency conflicts.\n",
      "conda-repo-cli 1.0.75 requires requests_mock, which is not installed.\n",
      "spyder 5.4.3 requires pyqt5<5.16, which is not installed.\n",
      "spyder 5.4.3 requires pyqtwebengine<5.16, which is not installed.\n",
      "conda-repo-cli 1.0.75 requires clyent==1.2.1, but you have clyent 1.2.2 which is incompatible.\n",
      "pyasn1-modules 0.2.8 requires pyasn1<0.5.0,>=0.4.6, but you have pyasn1 0.5.1 which is incompatible.\n",
      "aiobotocore 2.5.0 requires botocore<1.29.77,>=1.29.76, but you have botocore 1.33.6 which is incompatible.\u001b[0m\u001b[31m\n",
      "\u001b[0mSuccessfully installed PyYAML-6.0.1 awscli-1.31.6 boto3-1.33.6 botocore-1.33.6 colorama-0.4.4 docutils-0.16 jmespath-1.0.1 pyasn1-0.5.1 python-dateutil-2.8.2 rsa-4.7.2 s3transfer-0.8.2 six-1.16.0 urllib3-2.0.7\n"
     ]
    }
   ],
   "source": [
    "! pip install --no-build-isolation --force-reinstall \\\n",
    "    \"boto3>=1.33.6\" \\\n",
    "    \"awscli>=1.31.6\" \\\n",
    "    \"botocore>=1.33.6\""
   ]
  },
  {
   "attachments": {},
   "cell_type": "markdown",
   "metadata": {},
   "source": [
    "# Load the Library"
   ]
  },
  {
   "cell_type": "code",
   "execution_count": 4,
   "metadata": {},
   "outputs": [],
   "source": [
    "import json\n",
    "import os\n",
    "import sys\n",
    "\n",
    "import boto3\n",
    "import botocore\n",
    "\n",
    "bedrock = boto3.client(service_name=\"bedrock\")\n",
    "bedrock_runtime = boto3.client(service_name=\"bedrock-runtime\")"
   ]
  },
  {
   "attachments": {},
   "cell_type": "markdown",
   "metadata": {},
   "source": [
    "# Titan Text Model - Express"
   ]
  },
  {
   "cell_type": "code",
   "execution_count": 5,
   "metadata": {},
   "outputs": [],
   "source": [
    "express_prompt = \"write article about AWS Lambda\""
   ]
  },
  {
   "cell_type": "code",
   "execution_count": 6,
   "metadata": {},
   "outputs": [],
   "source": [
    "body = json.dumps({\n",
    "    \"inputText\": express_prompt, \n",
    "    \"textGenerationConfig\":{  \n",
    "        \"maxTokenCount\":128,\n",
    "        \"stopSequences\":[], #define phrases that signal the model to conclude text generation.\n",
    "        \"temperature\":0, #Temperature controls randomness; higher values increase diversity, lower values boost predictability.\n",
    "        \"topP\":0.9 # Top P is a text generation technique, sampling from the most probable tokens in a distribution.\n",
    "    }\n",
    "})"
   ]
  },
  {
   "cell_type": "code",
   "execution_count": 7,
   "metadata": {},
   "outputs": [],
   "source": [
    "response = bedrock_runtime.invoke_model(\n",
    "    body=body,\n",
    "\tmodelId=\"amazon.titan-text-express-v1\",\n",
    "    accept=\"application/json\", \n",
    "    contentType=\"application/json\"\n",
    ")"
   ]
  },
  {
   "attachments": {},
   "cell_type": "markdown",
   "metadata": {},
   "source": [
    "\n",
    "### The code text = outputText[outputText.index('\\n')+1:] extracts the substring following the first newline character in the outputText string. This is useful for scenarios where the initial content before the first newline is irrelevant, and you want to capture the text that comes after it. The index('\\n')+1 locates the position of the first newline character, and the slicing [index+1:] fetches the subsequent text, assigning it to the variable text"
   ]
  },
  {
   "cell_type": "code",
   "execution_count": 8,
   "metadata": {},
   "outputs": [
    {
     "name": "stdout",
     "output_type": "stream",
     "text": [
      "AWS Lambda is a serverless computing service provided by Amazon Web Services (AWS). It allows developers to run code in response to events without the need to manage any infrastructure. In this article, we will explore the features and benefits of AWS Lambda, as well as how to use it to build serverless applications.\n",
      "\n",
      "Features and Benefits of AWS Lambda:\n",
      "\n",
      "Serverless Computing: AWS Lambda is a serverless computing service, which means that developers do not have to worry about managing servers, operating systems, or infrastructure. Lambda runs the code in an environment that is managed by AWS, and scales automatically based\n"
     ]
    }
   ],
   "source": [
    "response_body = json.loads(response.get('body').read())\n",
    "outputText = response_body.get('results')[0].get('outputText')\n",
    "\n",
    "text = outputText[outputText.index('\\n')+1:]\n",
    "about_lambda = text.strip()\n",
    "print(about_lambda)"
   ]
  },
  {
   "attachments": {},
   "cell_type": "markdown",
   "metadata": {},
   "source": [
    "# Titan Text Model - Lite"
   ]
  },
  {
   "cell_type": "code",
   "execution_count": 9,
   "metadata": {},
   "outputs": [],
   "source": [
    "lite_prompt = \"2 difference between AWS DynamoDB and AWS Redis\""
   ]
  },
  {
   "cell_type": "code",
   "execution_count": 10,
   "metadata": {},
   "outputs": [],
   "source": [
    "body = json.dumps({\n",
    "    \"inputText\": lite_prompt, \n",
    "    \"textGenerationConfig\":{  \n",
    "        \"maxTokenCount\":128,\n",
    "        \"stopSequences\":[], #define phrases that signal the model to conclude text generation.\n",
    "        \"temperature\":0, #Temperature controls randomness; higher values increase diversity, lower values boost predictability.\n",
    "        \"topP\":0.9 # Top P is a text generation technique, sampling from the most probable tokens in a distribution.\n",
    "    }\n",
    "})"
   ]
  },
  {
   "cell_type": "code",
   "execution_count": 11,
   "metadata": {},
   "outputs": [],
   "source": [
    "response = bedrock_runtime.invoke_model(\n",
    "    body=body,\n",
    "\tmodelId=\"amazon.titan-text-lite-v1\",\n",
    "    accept=\"application/json\", \n",
    "    contentType=\"application/json\"\n",
    ")"
   ]
  },
  {
   "cell_type": "code",
   "execution_count": 12,
   "metadata": {},
   "outputs": [
    {
     "name": "stdout",
     "output_type": "stream",
     "text": [
      "Amazon DynamoDB is a fully managed NoSQL database service in the cloud that offers fast and predictable performance with seamless scalability. It is designed to run high-performance applications at any scale. On the other hand, Amazon Redis is a fully managed in-memory data structure store that provides real-time analytics, caching, and key-value data storage. It is suitable for applications that require fast data retrieval and low latency.\n"
     ]
    }
   ],
   "source": [
    "response_body = json.loads(response.get('body').read())\n",
    "outputText = response_body.get('results')[0].get('outputText')\n",
    "\n",
    "text = outputText[outputText.index('\\n')+1:]\n",
    "compare_dynamodb_redis = text.strip()\n",
    "print(compare_dynamodb_redis)"
   ]
  },
  {
   "attachments": {},
   "cell_type": "markdown",
   "metadata": {},
   "source": [
    "# Embedding Model"
   ]
  },
  {
   "cell_type": "code",
   "execution_count": 13,
   "metadata": {},
   "outputs": [],
   "source": [
    "embed_prompt = \"AWS re:Invent 2023, our biggest cloud event of the year, in Las Vegas, Nevada, featured keynotes, innovation talks, builder labs, workshops, tech and sustainability demos\""
   ]
  },
  {
   "cell_type": "code",
   "execution_count": 14,
   "metadata": {},
   "outputs": [],
   "source": [
    "body = json.dumps({\n",
    "    \"inputText\": embed_prompt, \n",
    "})"
   ]
  },
  {
   "cell_type": "markdown",
   "metadata": {},
   "source": []
  },
  {
   "cell_type": "code",
   "execution_count": 15,
   "metadata": {},
   "outputs": [],
   "source": [
    "response = bedrock_runtime.invoke_model(\n",
    "    body=body,\n",
    "\tmodelId=\"amazon.titan-embed-text-v1\",\n",
    "    accept=\"application/json\", \n",
    "    contentType=\"application/json\"\n",
    ")"
   ]
  },
  {
   "cell_type": "code",
   "execution_count": 16,
   "metadata": {},
   "outputs": [
    {
     "name": "stdout",
     "output_type": "stream",
     "text": [
      "You can find the Embedding Vector 1536 values\n",
      "[0.40429688, -0.38085938, 0.19726562, '...', 0.2109375, 0.012573242, 0.18847656]\n"
     ]
    }
   ],
   "source": [
    "response_body = json.loads(response.get(\"body\").read())\n",
    "embedding_output = response_body.get(\"embedding\")\n",
    "\n",
    "#This code retrieves the \"embedding\" vector from the response body and prints its length along with a preview of the first three and last three values, showing a snippet of the embedding vector.\n",
    "print(f\"You can find the Embedding Vector {len(embedding_output)} values\\n{embedding_output[0:3]+['...']+embedding_output[-3:]}\")"
   ]
  },
  {
   "attachments": {},
   "cell_type": "markdown",
   "metadata": {},
   "source": [
    "# Multi Model Embedding"
   ]
  },
  {
   "cell_type": "code",
   "execution_count": 18,
   "metadata": {},
   "outputs": [
    {
     "name": "stdout",
     "output_type": "stream",
     "text": [
      "--2023-12-04 11:44:02--  https://raw.githubusercontent.com/jayyanar/learning-aws-bedrock/main/blog3/tajmahal.jpg\n",
      "Resolving raw.githubusercontent.com (raw.githubusercontent.com)... 2606:50c0:8000::154, 2606:50c0:8001::154, 2606:50c0:8003::154, ...\n",
      "Connecting to raw.githubusercontent.com (raw.githubusercontent.com)|2606:50c0:8000::154|:443... connected.\n",
      "HTTP request sent, awaiting response... 200 OK\n",
      "Length: 1641800 (1.6M) [image/jpeg]\n",
      "Saving to: ‘tajmahal.jpg.2’\n",
      "\n",
      "tajmahal.jpg.2      100%[===================>]   1.57M  3.14MB/s    in 0.5s    \n",
      "\n",
      "2023-12-04 11:44:03 (3.14 MB/s) - ‘tajmahal.jpg.2’ saved [1641800/1641800]\n",
      "\n"
     ]
    }
   ],
   "source": [
    "! wget https://raw.githubusercontent.com/jayyanar/learning-aws-bedrock/main/blog3/tajmahal.jpg"
   ]
  },
  {
   "cell_type": "code",
   "execution_count": 20,
   "metadata": {},
   "outputs": [],
   "source": [
    "import base64\n",
    "from PIL import Image\n",
    "from io import BytesIO\n",
    "# The size of the file the 1024*1024 - Created using Stability XL\n",
    "with open(\"tajmahal.jpg\", \"rb\") as image_file:\n",
    "    tajmahal_image = base64.b64encode(image_file.read()).decode('utf8')\n",
    "body = json.dumps(\n",
    "    {\n",
    "        \"inputImage\": tajmahal_image\n",
    "    }\n",
    ")"
   ]
  },
  {
   "cell_type": "code",
   "execution_count": 21,
   "metadata": {},
   "outputs": [],
   "source": [
    "response = bedrock_runtime.invoke_model(\n",
    "\tbody=body, \n",
    "\tmodelId=\"amazon.titan-embed-image-v1\", \n",
    "\taccept=\"application/json\", \n",
    "\tcontentType=\"application/json\"\n",
    ")"
   ]
  },
  {
   "cell_type": "code",
   "execution_count": 22,
   "metadata": {},
   "outputs": [
    {
     "name": "stdout",
     "output_type": "stream",
     "text": [
      "You can find the Embedding Vector 1024 values\n",
      "[0.016090883, 0.03545449, 0.0026249958, '...', 0.0065908986, 0.0172727, 0.002738632]\n"
     ]
    }
   ],
   "source": [
    "response_body = json.loads(response.get(\"body\").read())\n",
    "embedding_output = response_body.get(\"embedding\")\n",
    "\n",
    "#This code retrieves the \"embedding\" vector from the response body and prints its length along with a preview of the first three and last three values, showing a snippet of the embedding vector.\n",
    "print(f\"You can find the Embedding Vector {len(embedding_output)} values\\n{embedding_output[0:3]+['...']+embedding_output[-3:]}\")"
   ]
  },
  {
   "attachments": {},
   "cell_type": "markdown",
   "metadata": {},
   "source": [
    "# Titan Image Generator"
   ]
  },
  {
   "cell_type": "code",
   "execution_count": 23,
   "metadata": {},
   "outputs": [],
   "source": [
    "image_prompt = \"Beautiful basketball ground\""
   ]
  },
  {
   "cell_type": "code",
   "execution_count": 24,
   "metadata": {},
   "outputs": [],
   "source": [
    "body = json.dumps(\n",
    "    {\n",
    "        \"taskType\": \"TEXT_IMAGE\",\n",
    "        \"textToImageParams\": {\n",
    "            \"text\": image_prompt,   # Required\n",
    "#           \"negativeText\": \"<text>\"  # Optional\n",
    "        },\n",
    "        \"imageGenerationConfig\": {\n",
    "            \"numberOfImages\": 1,   # Range: 1 to 5 \n",
    "            \"quality\": \"premium\",  # Options: standard or premium\n",
    "            \"height\": 1024,         # Supported height list in the docs \n",
    "            \"width\": 1024,         # Supported width list in the docs\n",
    "            \"cfgScale\": 7.5,       # Range: 1.0 (exclusive) to 10.0\n",
    "            \"seed\": 42             # Range: 0 to 214783647\n",
    "        }\n",
    "    }\n",
    ")"
   ]
  },
  {
   "cell_type": "code",
   "execution_count": 25,
   "metadata": {},
   "outputs": [],
   "source": [
    "response = bedrock_runtime.invoke_model(\n",
    "    body=body, \n",
    "    modelId=\"amazon.titan-image-generator-v1\",\n",
    "    accept=\"application/json\", \n",
    "    contentType=\"application/json\"\n",
    ")"
   ]
  },
  {
   "cell_type": "code",
   "execution_count": 26,
   "metadata": {},
   "outputs": [],
   "source": [
    "import base64\n",
    "from PIL import Image\n",
    "from io import BytesIO\n",
    "\n",
    "response_body = json.loads(response.get(\"body\").read())\n",
    "images = [Image.open(BytesIO(base64.b64decode(base64_image))) for base64_image in response_body.get(\"images\")]\n",
    "\n",
    "for i, img in enumerate(images):\n",
    "    img.save(f\"tajmahal_bedrock_{i+1}.jpg\")"
   ]
  },
  {
   "cell_type": "code",
   "execution_count": null,
   "metadata": {},
   "outputs": [],
   "source": []
  }
 ],
 "metadata": {
  "kernelspec": {
   "display_name": "Python 3",
   "language": "python",
   "name": "python3"
  },
  "language_info": {
   "codemirror_mode": {
    "name": "ipython",
    "version": 3
   },
   "file_extension": ".py",
   "mimetype": "text/x-python",
   "name": "python",
   "nbconvert_exporter": "python",
   "pygments_lexer": "ipython3",
   "version": "3.9.6 (default, May  7 2023, 23:32:44) \n[Clang 14.0.3 (clang-1403.0.22.14.1)]"
  },
  "orig_nbformat": 4,
  "vscode": {
   "interpreter": {
    "hash": "31f2aee4e71d21fbe5cf8b01ff0e069b9275f58929596ceb00d14d90e3e16cd6"
   }
  }
 },
 "nbformat": 4,
 "nbformat_minor": 2
}

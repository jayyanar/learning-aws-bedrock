{
 "cells": [
  {
   "cell_type": "code",
   "execution_count": null,
   "metadata": {},
   "outputs": [],
   "source": [
    "! python --version"
   ]
  },
  {
   "attachments": {},
   "cell_type": "markdown",
   "metadata": {},
   "source": [
    "# Environment Setup"
   ]
  },
  {
   "attachments": {},
   "cell_type": "markdown",
   "metadata": {},
   "source": [
    "## Upgrade pip"
   ]
  },
  {
   "cell_type": "code",
   "execution_count": null,
   "metadata": {},
   "outputs": [],
   "source": [
    "! pip install --upgrade pip"
   ]
  },
  {
   "attachments": {},
   "cell_type": "markdown",
   "metadata": {},
   "source": [
    "# Install latest boto3,awscli, boto3-core"
   ]
  },
  {
   "cell_type": "code",
   "execution_count": null,
   "metadata": {},
   "outputs": [],
   "source": [
    "! pip install --no-build-isolation --force-reinstall \\\n",
    "    \"boto3>=1.33.6\" \\\n",
    "    \"awscli>=1.31.6\" \\\n",
    "    \"botocore>=1.33.6\" \\\n",
    "    \"scikit-learn\""
   ]
  },
  {
   "attachments": {},
   "cell_type": "markdown",
   "metadata": {},
   "source": [
    "# Load the Library"
   ]
  },
  {
   "cell_type": "code",
   "execution_count": null,
   "metadata": {},
   "outputs": [],
   "source": [
    "import json\n",
    "import os\n",
    "import sys\n",
    "\n",
    "import boto3\n",
    "import botocore\n",
    "\n",
    "bedrock = boto3.client(service_name=\"bedrock\")\n",
    "bedrock_runtime = boto3.client(service_name=\"bedrock-runtime\")"
   ]
  },
  {
   "attachments": {},
   "cell_type": "markdown",
   "metadata": {},
   "source": [
    "# About model\n",
    "\n",
    "# Cohere's flagship text generation model is known as Command. It is designed to seamlessly respond to user commands and provide immediate utility in real-world business scenarios. The model excels in various applications, including summarization, copywriting, dialogue, extraction, and question answering. \n",
    "\n",
    "# Key Model Features Command boasts attributes such as text generation and precise instruction following."
   ]
  },
  {
   "cell_type": "code",
   "execution_count": null,
   "metadata": {},
   "outputs": [],
   "source": [
    "cohere_command_prompt = \"Create a Story Similar to Marvel Antman story\"\n",
    "# jurrasic_ultra_prompt = \"Capital of United States of America\""
   ]
  },
  {
   "cell_type": "code",
   "execution_count": null,
   "metadata": {},
   "outputs": [],
   "source": [
    "body = json.dumps({\n",
    "    \"prompt\": cohere_command_prompt,\n",
    "    \"max_tokens\":1024,\n",
    "    \"temperature\":0.2 #Temperature controls randomness; higher values increase diversity, lower values boost predictability.\n",
    "})"
   ]
  },
  {
   "cell_type": "code",
   "execution_count": null,
   "metadata": {},
   "outputs": [],
   "source": [
    "response = bedrock_runtime.invoke_model(\n",
    "    body=body,\n",
    "\tmodelId=\"cohere.command-text-v14\", # REPLACE WITH ai21.j2-mid-v1 lessthan powerful than Ultra but cost effective\n",
    "    accept= \"*/*\", \n",
    "    contentType=\"application/json\"\n",
    ")"
   ]
  },
  {
   "cell_type": "code",
   "execution_count": null,
   "metadata": {},
   "outputs": [],
   "source": [
    "\n",
    "response_body = json.loads(response.get('body').read())\n",
    "parse_text = response_body['generations'][0]['text']\n",
    "parse_text"
   ]
  },
  {
   "attachments": {},
   "cell_type": "markdown",
   "metadata": {},
   "source": [
    "# About model\n",
    "\n",
    "# Cohere's Command-Light is a generative model optimized for instruction-like prompts, offering an exceptional balance of quality, cost-effectiveness, and low-latency inference. It excels in various applications, including summarization, copywriting, dialogue, extraction, and question answering. \n",
    "\n",
    "# The model is characterized by its text generation capabilities and adeptness at following instructions."
   ]
  },
  {
   "cell_type": "code",
   "execution_count": null,
   "metadata": {},
   "outputs": [],
   "source": [
    "cohere_command_light_prompt = \"Give me benefits about Artificial Intelligence\""
   ]
  },
  {
   "cell_type": "code",
   "execution_count": null,
   "metadata": {},
   "outputs": [],
   "source": [
    "body = json.dumps({\n",
    "    \"prompt\": cohere_command_light_prompt,\n",
    "    \"max_tokens\":128,\n",
    "    \"temperature\":0.2 #Temperature controls randomness; higher values increase diversity, lower values boost predictability.\n",
    "})"
   ]
  },
  {
   "cell_type": "code",
   "execution_count": null,
   "metadata": {},
   "outputs": [],
   "source": [
    "response = bedrock_runtime.invoke_model(\n",
    "    body=body,\n",
    "\tmodelId=\"cohere.command-light-text-v14\", # REPLACE WITH ai21.j2-mid-v1 lessthan powerful than Ultra but cost effective\n",
    "    accept= \"*/*\", \n",
    "    contentType=\"application/json\"\n",
    ")"
   ]
  },
  {
   "cell_type": "code",
   "execution_count": null,
   "metadata": {},
   "outputs": [],
   "source": [
    "response_body = json.loads(response.get('body').read())\n",
    "parse_text = response_body['generations'][0]['text']\n",
    "parse_text"
   ]
  },
  {
   "attachments": {},
   "cell_type": "markdown",
   "metadata": {},
   "source": [
    "# About model\n",
    "\n",
    "## Cohere's Embed is a model designed to transform text into numerical vectors, facilitating comprehension by various machine learning models. Widely utilized in advanced generative AI applications, Embed plays a crucial role in deciphering user inputs, search results, and documents with nuanced understanding. \n",
    "\n",
    "## Its applications span semantic search, retrieval-augmented generation (RAG), classification, and clustering, and it is characterized by its 1024-dimensional vector representation.\""
   ]
  },
  {
   "cell_type": "code",
   "execution_count": null,
   "metadata": {},
   "outputs": [],
   "source": [
    "corpus = [\n",
    "    \"I love playing football\",\n",
    "    \"Football is my favorite sport\",\n",
    "    \"I like shoot three points in Basketball\"\n",
    "    \"Basketball is an exciting game\",\n",
    "    \"I like swimming in the ocean\"\n",
    "]"
   ]
  },
  {
   "cell_type": "code",
   "execution_count": 1,
   "metadata": {},
   "outputs": [
    {
     "ename": "NameError",
     "evalue": "name 'json' is not defined",
     "output_type": "error",
     "traceback": [
      "\u001b[0;31m---------------------------------------------------------------------------\u001b[0m",
      "\u001b[0;31mNameError\u001b[0m                                 Traceback (most recent call last)",
      "Cell \u001b[0;32mIn[1], line 1\u001b[0m\n\u001b[0;32m----> 1\u001b[0m body \u001b[39m=\u001b[39m json\u001b[39m.\u001b[39mdumps({\n\u001b[1;32m      2\u001b[0m     \u001b[39m\"\u001b[39m\u001b[39mtexts\u001b[39m\u001b[39m\"\u001b[39m : corpus,\n\u001b[1;32m      3\u001b[0m     \u001b[39m\"\u001b[39m\u001b[39minput_type\u001b[39m\u001b[39m\"\u001b[39m : \u001b[39m'\u001b[39m\u001b[39msearch_query\u001b[39m\u001b[39m'\u001b[39m\n\u001b[1;32m      4\u001b[0m })\n",
      "\u001b[0;31mNameError\u001b[0m: name 'json' is not defined"
     ]
    }
   ],
   "source": [
    "body = json.dumps({\n",
    "    \"texts\" : corpus,\n",
    "    \"input_type\" : 'search_query'\n",
    "})"
   ]
  },
  {
   "cell_type": "code",
   "execution_count": null,
   "metadata": {},
   "outputs": [],
   "source": [
    "response = bedrock_runtime.invoke_model(\n",
    "    body=body,\n",
    "\tmodelId=\"cohere.embed-english-v3\",\n",
    "    accept=\"application/json\", \n",
    "    contentType=\"application/json\"\n",
    ")"
   ]
  },
  {
   "cell_type": "code",
   "execution_count": null,
   "metadata": {},
   "outputs": [],
   "source": [
    "# response_body = json.loads(response.get('body').read())\n",
    "# response_body\n",
    "response_body = json.loads(response.get(\"body\").read())\n",
    "embedding_output = response_body.get(\"embeddings\")\n",
    "print (embedding_output)\n",
    "# print(f\"You can find the Embedding Vector {len(embedding_output)} values\\n{embedding_output[0:3]+['...']+embedding_output[-3:]}\")"
   ]
  },
  {
   "cell_type": "code",
   "execution_count": null,
   "metadata": {},
   "outputs": [],
   "source": []
  }
 ],
 "metadata": {
  "kernelspec": {
   "display_name": "Python 3",
   "language": "python",
   "name": "python3"
  },
  "language_info": {
   "codemirror_mode": {
    "name": "ipython",
    "version": 3
   },
   "file_extension": ".py",
   "mimetype": "text/x-python",
   "name": "python",
   "nbconvert_exporter": "python",
   "pygments_lexer": "ipython3",
   "version": "3.9.6"
  },
  "orig_nbformat": 4,
  "vscode": {
   "interpreter": {
    "hash": "31f2aee4e71d21fbe5cf8b01ff0e069b9275f58929596ceb00d14d90e3e16cd6"
   }
  }
 },
 "nbformat": 4,
 "nbformat_minor": 2
}
